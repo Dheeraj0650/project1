{
 "cells": [
  {
   "cell_type": "code",
   "execution_count": null,
   "id": "ebc83d32",
   "metadata": {
    "scrolled": true
   },
   "outputs": [],
   "source": [
    "import pandas as pd"
   ]
  },
  {
   "cell_type": "markdown",
   "id": "a08c23ab",
   "metadata": {},
   "source": [
    "# Pitcher\n",
    "Determine best pitcher per year. Can do line graph of avg IPouts per game"
   ]
  },
  {
   "cell_type": "code",
   "execution_count": null,
   "id": "b6868444",
   "metadata": {
    "scrolled": false
   },
   "outputs": [],
   "source": [
    "pd.set_option('display.max_rows', None)\n",
    "pd.set_option('display.max_columns', None)\n",
    "pitching = pd.read_csv('baseballdatabank-2022.2/core/Pitching.csv')\n",
    "pitching = pitching[['playerID', 'yearID', 'W', 'G','IPouts', 'BFP']]\n",
    "players = pd.read_csv('baseballdatabank-2022.2/core/People.csv')\n",
    "players = players [['playerID', 'nameFirst', 'nameLast']]\n",
    "pitchers = pd.merge(players, pitching, on='playerID')\n",
    "pitchers.head()"
   ]
  },
  {
   "cell_type": "code",
   "execution_count": null,
   "id": "e2257dff",
   "metadata": {
    "scrolled": true
   },
   "outputs": [],
   "source": [
    "pitchers.rename(columns ={'BFP': \"battersFaced\"})"
   ]
  },
  {
   "cell_type": "code",
   "execution_count": null,
   "id": "02a671a2",
   "metadata": {},
   "outputs": [],
   "source": [
    "##Finding average outs per game from pitcher for the year\n",
    "pitchers['pitchAvg'] = pitchers.IPouts / pitchers.G\n",
    "pitchers.head()"
   ]
  },
  {
   "cell_type": "code",
   "execution_count": null,
   "id": "65c89491",
   "metadata": {},
   "outputs": [],
   "source": [
    "##20 best pitchers by pitching average - how to filter outliers (low amount of games)\n",
    "pitchers.sort_values(by='pitchAvg', ascending=False).head(20)"
   ]
  },
  {
   "cell_type": "markdown",
   "id": "095ba971",
   "metadata": {},
   "source": [
    "# Manager\n",
    "Determine best manager. Can do lineplot for managers and wins. Determine if manager or team has more wins (don't know how to calculate if manager worked for multiple teams)"
   ]
  },
  {
   "cell_type": "code",
   "execution_count": null,
   "id": "3ae3a688",
   "metadata": {},
   "outputs": [],
   "source": [
    "teams = pd.read_csv('baseballdatabank-2022.2/core/Teams.csv')\n",
    "teams = teams[['teamID','yearID','G','W','L']]\n",
    "teams.head()"
   ]
  },
  {
   "cell_type": "code",
   "execution_count": null,
   "id": "cca0ff83",
   "metadata": {},
   "outputs": [],
   "source": [
    "teams['wonGamesPercent'] = teams['W'] / teams['G']\n",
    "teams.sort_values(by='W', ascending=False).head(20)"
   ]
  },
  {
   "cell_type": "code",
   "execution_count": null,
   "id": "2023148f",
   "metadata": {},
   "outputs": [],
   "source": [
    "managers = pd.read_csv('baseballdatabank-2022.2/core/Managers.csv')\n",
    "managers = managers[['playerID', 'teamID', 'yearID','G','W','L']]\n",
    "managers.head()"
   ]
  },
  {
   "cell_type": "code",
   "execution_count": null,
   "id": "60eaff9c",
   "metadata": {},
   "outputs": [],
   "source": [
    "##20 best players by games won\n",
    "managers['wonGamesPercent'] = managers['W'] / managers['G']\n",
    "managers.sort_values(by='W', ascending=False).head(20)"
   ]
  },
  {
   "cell_type": "code",
   "execution_count": null,
   "id": "ecf81c42",
   "metadata": {},
   "outputs": [],
   "source": []
  }
 ],
 "metadata": {
  "kernelspec": {
   "display_name": "Python 3 (ipykernel)",
   "language": "python",
   "name": "python3"
  },
  "language_info": {
   "codemirror_mode": {
    "name": "ipython",
    "version": 3
   },
   "file_extension": ".py",
   "mimetype": "text/x-python",
   "name": "python",
   "nbconvert_exporter": "python",
   "pygments_lexer": "ipython3",
   "version": "3.11.1"
  }
 },
 "nbformat": 4,
 "nbformat_minor": 5
}
