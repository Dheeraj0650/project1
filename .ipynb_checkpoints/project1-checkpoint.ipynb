{
 "cells": [
  {
   "cell_type": "code",
   "execution_count": null,
   "id": "ebc83d32",
   "metadata": {
    "scrolled": true
   },
   "outputs": [],
   "source": [
    "import pandas as pd"
   ]
  },
  {
   "cell_type": "code",
   "execution_count": null,
   "id": "b6868444",
   "metadata": {
    "scrolled": false
   },
   "outputs": [],
   "source": [
    "pd.set_option('display.max_rows', None)\n",
    "pd.set_option('display.max_columns', None)\n",
    "pitching = pd.read_csv('baseballdatabank-2022.2/core/Pitching.csv')\n",
    "players = pd.read_csv('baseballdatabank-2022.2/core/People.csv')\n",
    "pitching.head()"
   ]
  },
  {
   "cell_type": "code",
   "execution_count": null,
   "id": "e2257dff",
   "metadata": {
    "scrolled": true
   },
   "outputs": [],
   "source": [
    "columns = ['playerID', 'yearID', 'W', 'R', 'WP','ER', 'IPouts']\n",
    "pitching = df[columns]\n",
    "pitching.head()"
   ]
  },
  {
   "cell_type": "code",
   "execution_count": null,
   "id": "23b61a4f",
   "metadata": {
    "scrolled": true
   },
   "outputs": [],
   "source": [
    "pitching[pitching.yearID > 2000]"
   ]
  },
  {
   "cell_type": "code",
   "execution_count": null,
   "id": "f5c8ea3a",
   "metadata": {},
   "outputs": [],
   "source": [
    "pitching[pitching.yearID > 2000]\n",
    "pitching.sort_values(by='IPouts', ascending=False).head(20)"
   ]
  },
  {
   "cell_type": "code",
   "execution_count": null,
   "id": "3ae3a688",
   "metadata": {},
   "outputs": [],
   "source": [
    "managers = pd.read_csv('baseballdatabank-2022.2/core/Managers.csv')\n",
    "managers.head()"
   ]
  },
  {
   "cell_type": "code",
   "execution_count": null,
   "id": "c9333dbc",
   "metadata": {},
   "outputs": [],
   "source": [
    "managers.sort_values(by='W', ascending=False).head(20)"
   ]
  },
  {
   "cell_type": "code",
   "execution_count": null,
   "id": "60eaff9c",
   "metadata": {},
   "outputs": [],
   "source": [
    "players[players.playerID == 'torrejo01']"
   ]
  },
  {
   "cell_type": "code",
   "execution_count": null,
   "id": "07b8361c",
   "metadata": {},
   "outputs": [],
   "source": []
  }
 ],
 "metadata": {
  "kernelspec": {
   "display_name": "Python 3 (ipykernel)",
   "language": "python",
   "name": "python3"
  },
  "language_info": {
   "codemirror_mode": {
    "name": "ipython",
    "version": 3
   },
   "file_extension": ".py",
   "mimetype": "text/x-python",
   "name": "python",
   "nbconvert_exporter": "python",
   "pygments_lexer": "ipython3",
   "version": "3.11.1"
  }
 },
 "nbformat": 4,
 "nbformat_minor": 5
}
