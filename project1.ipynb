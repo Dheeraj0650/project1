{
 "cells": [
  {
   "cell_type": "code",
   "execution_count": null,
   "id": "ebc83d32",
   "metadata": {
    "scrolled": true
   },
   "outputs": [],
   "source": [
    "import pandas as pd\n",
    "import matplotlib.pyplot as plt\n",
    "import seaborn as sns"
   ]
  },
  {
   "cell_type": "markdown",
   "id": "a08c23ab",
   "metadata": {},
   "source": [
    "# Pitcher\n",
    "View pitcher information for all of MLB."
   ]
  },
  {
   "cell_type": "code",
   "execution_count": null,
   "id": "b6868444",
   "metadata": {
    "scrolled": false
   },
   "outputs": [],
   "source": [
    "##Gathering data\n",
    "pd.set_option('display.max_rows', None)\n",
    "pd.set_option('display.max_columns', None)\n",
    "pitching = pd.read_csv('baseballdatabank-2022.2/core/Pitching.csv')\n",
    "pitching = pitching[['playerID', 'yearID', 'G','IPouts', 'BFP', 'ERA']]\n",
    "players = pd.read_csv('baseballdatabank-2022.2/core/People.csv')\n",
    "players = players [['playerID', 'nameFirst', 'nameLast']]\n",
    "pitchers = pd.merge(players, pitching, on='playerID')\n",
    "pitchers.head()"
   ]
  },
  {
   "cell_type": "code",
   "execution_count": null,
   "id": "148ed2d4",
   "metadata": {},
   "outputs": [],
   "source": [
    "##Inital data from pitchers\n",
    "sns.scatterplot(data=pitchers, x='yearID', y='ERA', s=5)"
   ]
  },
  {
   "cell_type": "code",
   "execution_count": null,
   "id": "02a671a2",
   "metadata": {},
   "outputs": [],
   "source": [
    "##Grouping data by pitcher and summing games, BFP, and ERA\n",
    "pitcherERA = pitchers.groupby(['playerID']).agg({'G':'sum', 'IPouts':'sum', 'BFP':'sum', 'ERA':'sum'}).reset_index()\n",
    "pitcherERA.head()"
   ]
  },
  {
   "cell_type": "code",
   "execution_count": null,
   "id": "aa938303",
   "metadata": {
    "scrolled": true
   },
   "outputs": [],
   "source": [
    "sns.lineplot(data=pitchers, x='yearID', y='ERA')\n",
    "plt.ylim([1, 15])"
   ]
  },
  {
   "cell_type": "code",
   "execution_count": null,
   "id": "9baba8a1",
   "metadata": {},
   "outputs": [],
   "source": [
    "##Removing players with 1 game or IPout\n",
    "pitchersOutliers = pitchers[(pitchers.G > 1) & (pitchers.IPouts > 1)]\n",
    "pitchersOutliers"
   ]
  },
  {
   "cell_type": "code",
   "execution_count": null,
   "id": "fb82bf5c",
   "metadata": {},
   "outputs": [],
   "source": [
    "sns.lineplot(data=pitchersOutliers, x='yearID', y='ERA')\n",
    "plt.ylim([1, 15])"
   ]
  },
  {
   "cell_type": "code",
   "execution_count": null,
   "id": "65c89491",
   "metadata": {},
   "outputs": [],
   "source": [
    "##20 best pitchers by ERA exluding outliers from above\n",
    "pitchersHighGames = pitchersOutliers[(pitchersOutliers.G > 25)]\n",
    "pitchersHighGames.sort_values(by='ERA', ascending=False).head(20)"
   ]
  },
  {
   "cell_type": "markdown",
   "id": "095ba971",
   "metadata": {},
   "source": [
    "# Manager\n",
    "Determine best manager. Can do lineplot for managers and wins. Determine if manager or team has more wins (don't know how to calculate if manager worked for multiple teams)"
   ]
  },
  {
   "cell_type": "code",
   "execution_count": null,
   "id": "3ae3a688",
   "metadata": {},
   "outputs": [],
   "source": [
    "##Gathering data\n",
    "teams = pd.read_csv('baseballdatabank-2022.2/core/Teams.csv')\n",
    "teams = teams[['teamID','yearID','G','W','L']]\n",
    "managers = pd.read_csv('baseballdatabank-2022.2/core/Managers.csv')\n",
    "managers = managers[['playerID','teamID', 'rank']]\n",
    "teamManagers = pd.merge(managers, teams, on='teamID')\n",
    "teamManagers.head()"
   ]
  },
  {
   "cell_type": "code",
   "execution_count": null,
   "id": "c45c23d8",
   "metadata": {},
   "outputs": [],
   "source": [
    "##Inital data for managers\n",
    "sns.scatterplot(data=teamManagers, x='yearID', y='W', s=5)\n",
    "##plt.xlim([1870, 1900])"
   ]
  },
  {
   "cell_type": "code",
   "execution_count": null,
   "id": "e76d2e0e",
   "metadata": {},
   "outputs": [],
   "source": [
    "##Manager stats after season length 162 games\n",
    "managerWins1961 = teamManagers[(teamManagers.yearID > 1960)]\n",
    "managerWins1961.head()"
   ]
  },
  {
   "cell_type": "code",
   "execution_count": null,
   "id": "203f1c9b",
   "metadata": {},
   "outputs": [],
   "source": [
    "sns.scatterplot(data=managerWins1961, x='yearID', y='W', s=5)"
   ]
  },
  {
   "cell_type": "code",
   "execution_count": null,
   "id": "64ec8282",
   "metadata": {},
   "outputs": [],
   "source": [
    "##Grouping data by manager and summing games and wins\n",
    "managerWins1961 = managerWins1961.groupby(['playerID']).agg({'G':'sum', 'W':'sum'}).reset_index()\n",
    "managerWins1961.head()"
   ]
  },
  {
   "cell_type": "code",
   "execution_count": null,
   "id": "0f11d9f6",
   "metadata": {},
   "outputs": [],
   "source": [
    "##Determine average wins per manager\n",
    "managerWins['winAvg'] = managerWins['W'] / managerWins['G']\n",
    "managerWins.sort_values(by='winAvg', ascending=False).head(20)"
   ]
  },
  {
   "cell_type": "code",
   "execution_count": null,
   "id": "8cfd929d",
   "metadata": {},
   "outputs": [],
   "source": [
    "sns.scatterplot(data=managerWins, x='playerID', y='winAvg', s=4)"
   ]
  },
  {
   "cell_type": "code",
   "execution_count": null,
   "id": "ecf81c42",
   "metadata": {},
   "outputs": [],
   "source": []
  }
 ],
 "metadata": {
  "kernelspec": {
   "display_name": "Python 3 (ipykernel)",
   "language": "python",
   "name": "python3"
  },
  "language_info": {
   "codemirror_mode": {
    "name": "ipython",
    "version": 3
   },
   "file_extension": ".py",
   "mimetype": "text/x-python",
   "name": "python",
   "nbconvert_exporter": "python",
   "pygments_lexer": "ipython3",
   "version": "3.11.1"
  }
 },
 "nbformat": 4,
 "nbformat_minor": 5
}
