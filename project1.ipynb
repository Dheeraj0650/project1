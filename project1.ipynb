{
 "cells": [
  {
   "cell_type": "code",
   "execution_count": null,
   "id": "ebc83d32",
   "metadata": {
    "scrolled": true
   },
   "outputs": [],
   "source": [
    "import pandas as pd\n",
    "import matplotlib.pyplot as plt\n",
    "import seaborn as sns"
   ]
  },
  {
   "cell_type": "markdown",
   "id": "a08c23ab",
   "metadata": {},
   "source": [
    "# Pitcher\n",
    "View pitcher information for all of MLB."
   ]
  },
  {
   "cell_type": "code",
   "execution_count": null,
   "id": "b6868444",
   "metadata": {
    "scrolled": false
   },
   "outputs": [],
   "source": [
    "pd.set_option('display.max_rows', None)\n",
    "pd.set_option('display.max_columns', None)\n",
    "pitching = pd.read_csv('baseballdatabank-2022.2/core/Pitching.csv')\n",
    "pitching = pitching[['playerID', 'yearID', 'G','IPouts', 'BFP', 'ERA']]\n",
    "players = pd.read_csv('baseballdatabank-2022.2/core/People.csv')\n",
    "players = players [['playerID', 'nameFirst', 'nameLast']]\n",
    "pitchers = pd.merge(players, pitching, on='playerID')\n",
    "pitchers.head()"
   ]
  },
  {
   "cell_type": "code",
   "execution_count": null,
   "id": "02a671a2",
   "metadata": {},
   "outputs": [],
   "source": [
    "pitcherERA = pitchers.groupby(['playerID']).agg({'G':'sum', 'IPouts':'sum', 'BFP':'sum', 'ERA':'sum'}).reset_index()\n",
    "pitcherERA.head()"
   ]
  },
  {
   "cell_type": "code",
   "execution_count": null,
   "id": "aa938303",
   "metadata": {
    "scrolled": true
   },
   "outputs": [],
   "source": [
    "sns.lineplot(data=pitchers, x='yearID', y='ERA')"
   ]
  },
  {
   "cell_type": "code",
   "execution_count": null,
   "id": "9baba8a1",
   "metadata": {},
   "outputs": [],
   "source": [
    "pitchersOutliers = pitchers[(pitchers.G > 1) & (pitchers.IPouts > 1)]\n",
    "pitchersOutliers"
   ]
  },
  {
   "cell_type": "code",
   "execution_count": null,
   "id": "fb82bf5c",
   "metadata": {},
   "outputs": [],
   "source": [
    "sns.lineplot(data=pitchersOutliers, x='yearID', y='ERA')\n",
    "plt.ylim([1, 15])"
   ]
  },
  {
   "cell_type": "code",
   "execution_count": null,
   "id": "65c89491",
   "metadata": {},
   "outputs": [],
   "source": [
    "##20 best pitchers by pitching average - how to filter outliers (low amount of games)\n",
    "pitchersHighGames = pitchersOutliers[(pitchersOutliers.G > 25)]\n",
    "pitchersHighGames.sort_values(by='ERA', ascending=False).head(20)"
   ]
  },
  {
   "cell_type": "markdown",
   "id": "095ba971",
   "metadata": {},
   "source": [
    "# Manager\n",
    "Determine best manager. Can do lineplot for managers and wins. Determine if manager or team has more wins (don't know how to calculate if manager worked for multiple teams)"
   ]
  },
  {
   "cell_type": "code",
   "execution_count": null,
   "id": "3ae3a688",
   "metadata": {},
   "outputs": [],
   "source": [
    "teams = pd.read_csv('baseballdatabank-2022.2/core/Teams.csv')\n",
    "teams = teams[['teamID','yearID','G','W','L']]\n",
    "teams.head()"
   ]
  },
  {
   "cell_type": "code",
   "execution_count": null,
   "id": "cca0ff83",
   "metadata": {},
   "outputs": [],
   "source": [
    "teams['wonGamesPercent'] = teams['W'] / teams['G']\n",
    "teams.sort_values(by='W', ascending=False).head(20)"
   ]
  },
  {
   "cell_type": "code",
   "execution_count": null,
   "id": "2023148f",
   "metadata": {},
   "outputs": [],
   "source": [
    "managers = pd.read_csv('baseballdatabank-2022.2/core/Managers.csv')\n",
    "managers = managers[['playerID', 'teamID', 'yearID','G','W','L']]\n",
    "managers.head()"
   ]
  },
  {
   "cell_type": "code",
   "execution_count": null,
   "id": "60eaff9c",
   "metadata": {},
   "outputs": [],
   "source": [
    "##20 best players by games won\n",
    "managers['wonGamesPercent'] = managers['W'] / managers['G']\n",
    "managers.sort_values(by='W', ascending=False).head(20)"
   ]
  },
  {
   "cell_type": "code",
   "execution_count": null,
   "id": "ecf81c42",
   "metadata": {},
   "outputs": [],
   "source": []
  }
 ],
 "metadata": {
  "kernelspec": {
   "display_name": "Python 3 (ipykernel)",
   "language": "python",
   "name": "python3"
  },
  "language_info": {
   "codemirror_mode": {
    "name": "ipython",
    "version": 3
   },
   "file_extension": ".py",
   "mimetype": "text/x-python",
   "name": "python",
   "nbconvert_exporter": "python",
   "pygments_lexer": "ipython3",
   "version": "3.11.1"
  }
 },
 "nbformat": 4,
 "nbformat_minor": 5
}
