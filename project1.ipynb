{
 "cells": [
  {
   "cell_type": "code",
   "execution_count": null,
   "id": "ebc83d32",
   "metadata": {
    "scrolled": true
   },
   "outputs": [],
   "source": [
    "import pandas as pd\n",
    "import matplotlib.pyplot as plt\n",
    "import seaborn as sns"
   ]
  },
  {
   "cell_type": "markdown",
   "id": "a08c23ab",
   "metadata": {},
   "source": [
    "# Pitcher"
   ]
  },
  {
   "cell_type": "code",
   "execution_count": null,
   "id": "b6868444",
   "metadata": {
    "scrolled": false
   },
   "outputs": [],
   "source": [
    "##Gathering data\n",
    "pitching = pd.read_csv('baseballdatabank-2022.2/core/Pitching.csv')\n",
    "pitching = pitching[['playerID', 'yearID', 'G','IPouts', 'BFP', 'ERA']]\n",
    "players = pd.read_csv('baseballdatabank-2022.2/core/People.csv')\n",
    "players = players [['playerID', 'nameFirst', 'nameLast']]\n",
    "pitchers = pd.merge(players, pitching, on='playerID')\n",
    "\n",
    "##ERA per year per pitcher from original data\n",
    "sns.scatterplot(data=pitchers, x='yearID', y='ERA', s=5)"
   ]
  },
  {
   "cell_type": "code",
   "execution_count": null,
   "id": "02a671a2",
   "metadata": {},
   "outputs": [],
   "source": [
    "##Grouping data by pitcher and summing games, BFP, and ERA\n",
    "pitcherERA = pitchers.groupby(['playerID']).agg({'G':'sum', 'IPouts':'sum', 'BFP':'sum', 'ERA':'mean'}).reset_index()\n",
    "sns.lineplot(data=pitchers, x='yearID', y='ERA')\n",
    "plt.ylim([1, 15])"
   ]
  },
  {
   "cell_type": "code",
   "execution_count": null,
   "id": "9baba8a1",
   "metadata": {},
   "outputs": [],
   "source": [
    "##Removing players with 1 game or IPout\n",
    "pitchersOutliers = pitchers[(pitchers.G > 1) & (pitchers.IPouts > 1)]\n",
    "sns.lineplot(data=pitchersOutliers, x='yearID', y='ERA')\n",
    "plt.ylim([1, 15])"
   ]
  },
  {
   "cell_type": "code",
   "execution_count": null,
   "id": "65c89491",
   "metadata": {},
   "outputs": [],
   "source": [
    "##20 best pitchers by ERA exluding outliers from above\n",
    "pitchersHighGames = pitchersOutliers[(pitchersOutliers.G > 25)]\n",
    "best20Pitchers = pitchersHighGames.sort_values(by='ERA', ascending=True).head(20)\n",
    "\n",
    "##Lowest ERA(more pitches with unsucessful hits) per pitcher with more than 25 games (played at least part of a season)\n",
    "sns.barplot(data=best20Pitchers, x='playerID', y='ERA')\n",
    "plt.xticks(rotation=60)"
   ]
  },
  {
   "cell_type": "markdown",
   "id": "095ba971",
   "metadata": {},
   "source": [
    "# Manager"
   ]
  },
  {
   "cell_type": "code",
   "execution_count": null,
   "id": "3ae3a688",
   "metadata": {},
   "outputs": [],
   "source": [
    "##Gathering data\n",
    "teams = pd.read_csv('baseballdatabank-2022.2/core/Teams.csv')\n",
    "teams = teams[['teamID','yearID','G','W','L']]\n",
    "managers = pd.read_csv('baseballdatabank-2022.2/core/Managers.csv')\n",
    "managers = managers[['playerID','teamID', 'rank']]\n",
    "teamManagers = pd.merge(managers, teams, on='teamID')\n",
    "\n",
    "##Manager wins per year from original data\n",
    "sns.scatterplot(data=teamManagers, x='yearID', y='W', s=5)"
   ]
  },
  {
   "cell_type": "code",
   "execution_count": null,
   "id": "e76d2e0e",
   "metadata": {},
   "outputs": [],
   "source": [
    "##Determine best manager after season length 162 games\n",
    "managerWins1961 = teamManagers[(teamManagers.yearID > 1960)]\n",
    "managerWins1961 = managerWins1961.groupby(['playerID']).agg({'G':'sum', 'W':'sum'}).reset_index()\n",
    "managerWins1961['winAvg'] = managerWins1961['W'] / managerWins1961['G']\n",
    "best20ManagerWins = managerWins1961.sort_values(by='winAvg', ascending=False).head(20)\n",
    "\n",
    "##Top 20 managers with highest win average for season lasting 162 games\n",
    "sns.barplot(data=best20ManagerWins, x='playerID', y='winAvg')\n",
    "plt.xticks(rotation=60)"
   ]
  },
  {
   "cell_type": "code",
   "execution_count": null,
   "id": "0f11d9f6",
   "metadata": {},
   "outputs": [],
   "source": [
    "##Determine average wins per manager for all MLB\n",
    "teamManagers['winAvg'] = teamManagers['W'] / teamManagers['G']\n",
    "managerWins = teamManagers.sort_values(by='winAvg', ascending=False).head(20)\n",
    "\n",
    "##Top 20 (turned out to be 9) managers with best win average for all of MLB\n",
    "sns.barplot(data=managerWins, x='playerID', y='winAvg')\n",
    "plt.xticks(rotation=60)"
   ]
  }
 ],
 "metadata": {
  "kernelspec": {
   "display_name": "Python 3 (ipykernel)",
   "language": "python",
   "name": "python3"
  },
  "language_info": {
   "codemirror_mode": {
    "name": "ipython",
    "version": 3
   },
   "file_extension": ".py",
   "mimetype": "text/x-python",
   "name": "python",
   "nbconvert_exporter": "python",
   "pygments_lexer": "ipython3",
   "version": "3.11.1"
  }
 },
 "nbformat": 4,
 "nbformat_minor": 5
}
