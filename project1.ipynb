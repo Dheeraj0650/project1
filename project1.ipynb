{
  "cells": [
    {
      "cell_type": "code",
      "execution_count": 1,
      "id": "ebc83d32",
      "metadata": {
        "scrolled": true,
        "id": "ebc83d32"
      },
      "outputs": [],
      "source": [
        "import pandas as pd\n",
        "import matplotlib.pyplot as plt\n",
        "import seaborn as sns"
      ]
    },
    {
      "cell_type": "code",
      "source": [
        "from google.colab import drive"
      ],
      "metadata": {
        "id": "FGtgFzMjYXGs"
      },
      "id": "FGtgFzMjYXGs",
      "execution_count": 2,
      "outputs": []
    },
    {
      "cell_type": "markdown",
      "id": "a08c23ab",
      "metadata": {
        "id": "a08c23ab"
      },
      "source": [
        "# Pitcher"
      ]
    },
    {
      "cell_type": "code",
      "execution_count": null,
      "id": "b6868444",
      "metadata": {
        "scrolled": false,
        "id": "b6868444"
      },
      "outputs": [],
      "source": [
        "fig, ax = plt.subplots(figsize=(15, 5))\n",
        "\n",
        "##Gathering data\n",
        "pitching = pd.read_csv('baseballdatabank-2022.2/core/Pitching.csv')\n",
        "pitching = pitching[['playerID', 'yearID', 'G', 'H','IPouts', 'BFP', 'ERA','teamID']]\n",
        "players = pd.read_csv('baseballdatabank-2022.2/core/People.csv')\n",
        "players = players [['playerID', 'nameFirst', 'nameLast']]\n",
        "pitchers = pd.merge(players, pitching, on='playerID')\n",
        "\n",
        "batting = pd.read_csv('baseballdatabank-2022.2/core/Batting.csv')\n",
        "people = pd.read_csv('baseballdatabank-2022.2/core/People.csv')\n",
        "salary = pd.read_csv('baseballdatabank-2022.2/contrib/Salaries.csv')\n",
        "Teams = pd.read_csv('baseballdatabank-2022.2/core/Teams.csv')\n",
        "playerHits = pd.merge(batting, people, on='playerID')\n",
        "\n",
        "##ERA per year per pitcher from original data\n",
        "sns.scatterplot(data=pitchers, x='yearID', y='ERA', s=5)\n",
        "plt.ylabel(\"Earned Run Average\")"
      ]
    },
    {
      "cell_type": "code",
      "source": [
        "fig, ax = plt.subplots(figsize=(15, 5))\n",
        "\n",
        "##Grouping data by pitcher and summing games, BFP, and ERA\n",
        "pitcherERA = pitchers.groupby(['playerID']).agg({'G':'sum', 'IPouts':'sum', 'BFP':'sum', 'ERA':'mean'}).reset_index()\n",
        "sns.lineplot(data=pitchers, x='yearID', y='ERA')\n",
        "plt.ylim([1, 15])\n",
        "plt.ylabel(\"Earned Run Average\")"
      ],
      "metadata": {
        "id": "hzmzksawdeIh"
      },
      "id": "hzmzksawdeIh",
      "execution_count": null,
      "outputs": []
    },
    {
      "cell_type": "code",
      "execution_count": null,
      "id": "9baba8a1",
      "metadata": {
        "id": "9baba8a1"
      },
      "outputs": [],
      "source": [
        "fig, ax = plt.subplots(figsize=(15, 5))\n",
        "\n",
        "##Removing players with 1 game or IPout\n",
        "pitchersOutliers = pitchers[(pitchers.G > 1) & (pitchers.IPouts > 1)]\n",
        "sns.lineplot(data=pitchersOutliers, x='yearID', y='ERA')\n",
        "plt.ylim([1, 15])\n",
        "plt.ylabel(\"Earned Run Average\")"
      ]
    },
    {
      "cell_type": "code",
      "execution_count": null,
      "id": "65c89491",
      "metadata": {
        "id": "65c89491"
      },
      "outputs": [],
      "source": [
        "fig, ax = plt.subplots(figsize=(15, 5))\n",
        "\n",
        "##20 best pitchers by ERA exluding outliers from above\n",
        "pitchersHighGames = pitchersOutliers[(pitchersOutliers.G > 25)]\n",
        "best20Pitchers = pitchersHighGames.sort_values(by='ERA', ascending=True).head(20)\n",
        "\n",
        "##Lowest ERA(more pitches with unsucessful hits) per pitcher with more than 25 games (played at least part of a season)\n",
        "sns.barplot(data=best20Pitchers, x='playerID', y='ERA')\n",
        "plt.xticks(rotation=60)\n",
        "plt.ylabel(\"Earned Run Average\")"
      ]
    },
    {
      "cell_type": "markdown",
      "id": "095ba971",
      "metadata": {
        "id": "095ba971"
      },
      "source": [
        "# Manager"
      ]
    },
    {
      "cell_type": "code",
      "execution_count": null,
      "id": "3ae3a688",
      "metadata": {
        "id": "3ae3a688"
      },
      "outputs": [],
      "source": [
        "fig, ax = plt.subplots(figsize=(15, 5))\n",
        "\n",
        "##Gathering data\n",
        "teams = pd.read_csv('Teams.csv')\n",
        "teams = teams[['teamID','yearID','G','W','L']]\n",
        "managers = pd.read_csv('Managers.csv')\n",
        "managers = managers[['playerID','teamID', 'rank']]\n",
        "teamManagers = pd.merge(managers, teams, on='teamID')\n",
        "\n",
        "##Manager wins per year from original data\n",
        "sns.scatterplot(data=teamManagers, x='yearID', y='W', s=5)\n",
        "plt.ylabel(\"Wins\")"
      ]
    },
    {
      "cell_type": "code",
      "execution_count": null,
      "id": "e76d2e0e",
      "metadata": {
        "id": "e76d2e0e"
      },
      "outputs": [],
      "source": [
        "fig, ax = plt.subplots(figsize=(15, 5))\n",
        "\n",
        "##Determine best manager after season length 162 games\n",
        "managerWins1961 = teamManagers[(teamManagers.yearID > 1960)]\n",
        "managerWins1961 = managerWins1961.groupby(['playerID']).agg({'G':'sum', 'W':'sum'}).reset_index()\n",
        "managerWins1961['winAvg'] = managerWins1961['W'] / managerWins1961['G']\n",
        "best20ManagerWins = managerWins1961.sort_values(by='winAvg', ascending=False).head(20)\n",
        "\n",
        "##Top 20 managers with highest win average for season lasting 162 games\n",
        "sns.barplot(data=best20ManagerWins, x='playerID', y='winAvg')\n",
        "plt.xticks(rotation=60)"
      ]
    },
    {
      "cell_type": "code",
      "execution_count": null,
      "id": "0f11d9f6",
      "metadata": {
        "id": "0f11d9f6"
      },
      "outputs": [],
      "source": [
        "fig, ax = plt.subplots(figsize=(15, 5))\n",
        "\n",
        "##Determine average wins per manager for all MLB\n",
        "teamManagers['winAvg'] = teamManagers['W'] / teamManagers['G']\n",
        "managerWins = teamManagers.sort_values(by='winAvg', ascending=False).head(20)\n",
        "\n",
        "##Top 20 (turned out to be 9) managers with best win average for all of MLB\n",
        "sns.barplot(data=managerWins, x='playerID', y='winAvg')\n",
        "plt.xticks(rotation=60)"
      ]
    },
    {
      "cell_type": "code",
      "source": [
        "fig, ax = plt.subplots(figsize=(15, 5))\n",
        "batting = batting[['yearID', '3B', 'playerID']]\n",
        "groupByYear = batting.groupby('yearID').agg({'3B':'mean'}).reset_index()\n",
        "sns.lineplot('yearID', '3B', data=groupByYear)\n",
        "\n",
        "plt.figure()\n",
        "fig, ax = plt.subplots(figsize=(15, 5))\n",
        "phase1 = groupByYear[(groupByYear.yearID > 1871) & (groupByYear.yearID < 1940)]\n",
        "sns.lineplot('yearID', '3B', data=phase1)\n",
        "\n",
        "plt.figure()\n",
        "fig, ax = plt.subplots(figsize=(15, 5))\n",
        "phase1 = groupByYear[(groupByYear.yearID > 1940)]\n",
        "sns.lineplot('yearID', '3B', data=phase1)\n",
        "\n",
        "num_right = playerHits[playerHits.bats == 'R']\n",
        "num_left = playerHits[playerHits.bats == 'L']\n",
        "groupByRightPlayed = num_right.groupby('yearID').agg({'bats':'count'}).reset_index()\n",
        "groupByLeftPlayed = num_left.groupby('yearID').agg({'bats':'count'}).reset_index()\n",
        "\n",
        "plt.figure()\n",
        "fig, ax = plt.subplots(figsize=(15, 5))\n",
        "sns.lineplot('yearID', 'bats', data=groupByRightPlayed, label='rightBat')\n",
        "sns.lineplot('yearID', 'bats', data=groupByLeftPlayed, label='leftBat')\n",
        "plt.legend()\n",
        "\n",
        "# Often called \"the most exciting play in baseball,\" a triple occurs when a batter hits the ball into play and reaches third base without the help of an\n",
        "# https://www.mlb.com/glossary/standard-stats/triple\n",
        "# https://coachingkidz.com/the-ultimate-resource-on-hits-in-baseball-1b-2b-3b-hr/\n",
        "\n",
        "# strength decreasing\n",
        "# right field longer\n",
        "# wild pitches\n",
        "# https://coachesinsider.com/baseball/common-third-base-mistakes-article/\n"
      ],
      "metadata": {
        "id": "moCLNmaVbuYp"
      },
      "id": "moCLNmaVbuYp",
      "execution_count": null,
      "outputs": []
    },
    {
      "cell_type": "code",
      "source": [
        "fig, ax = plt.subplots(figsize=(20, 5))\n",
        "sns.scatterplot(y='E', x='yearID', data=Teams)\n",
        "plt.ylabel(\"Error\")\n",
        "\n",
        "plt.figure()\n",
        "fig, ax = plt.subplots(figsize=(20, 5))\n",
        "playerERA = pd.merge(pitching, Teams, on=['yearID', 'teamID'])\n",
        "sns.scatterplot(y='ERA_x', x='E', data=playerERA)\n",
        "plt.xlabel(\"Error\")\n",
        "plt.ylabel(\"Earned Run Average\")\n",
        "\n",
        "plt.figure()\n",
        "fig, ax = plt.subplots(figsize=(20, 5))\n",
        "sns.scatterplot(y='H_x', x='E', data=playerERA, s=10)\n",
        "plt.xlabel(\"Error\")\n",
        "plt.ylabel(\"Hits\")\n",
        "# https://www.rookieroad.com/baseball/what-is-error/\n"
      ],
      "metadata": {
        "id": "i0TsE1lxbuU6"
      },
      "id": "i0TsE1lxbuU6",
      "execution_count": null,
      "outputs": []
    }
  ],
  "metadata": {
    "kernelspec": {
      "display_name": "Python 3 (ipykernel)",
      "language": "python",
      "name": "python3"
    },
    "language_info": {
      "codemirror_mode": {
        "name": "ipython",
        "version": 3
      },
      "file_extension": ".py",
      "mimetype": "text/x-python",
      "name": "python",
      "nbconvert_exporter": "python",
      "pygments_lexer": "ipython3",
      "version": "3.11.1"
    },
    "colab": {
      "provenance": []
    }
  },
  "nbformat": 4,
  "nbformat_minor": 5
}